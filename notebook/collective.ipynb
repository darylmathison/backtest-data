{
 "cells": [
  {
   "cell_type": "code",
   "id": "initial_id",
   "metadata": {
    "collapsed": true,
    "ExecuteTime": {
     "end_time": "2024-05-17T19:04:35.601732Z",
     "start_time": "2024-05-17T19:04:34.718357Z"
    }
   },
   "source": [
    "import stock_data.risk_reward as rr\n",
    "from stock_data.fill_data import open_session"
   ],
   "outputs": [],
   "execution_count": 1
  },
  {
   "metadata": {
    "ExecuteTime": {
     "end_time": "2024-05-17T19:04:36.941941Z",
     "start_time": "2024-05-17T19:04:35.602552Z"
    }
   },
   "cell_type": "code",
   "source": [
    "with open_session() as session:\n",
    "    symbols = rr.dividend_stocks(session)\n",
    "    df = rr.process_all_securities(session, symbols, 5)"
   ],
   "id": "516d61ff9950f5bb",
   "outputs": [],
   "execution_count": 2
  },
  {
   "metadata": {
    "ExecuteTime": {
     "end_time": "2024-05-17T19:07:21.517747Z",
     "start_time": "2024-05-17T19:07:21.497701Z"
    }
   },
   "cell_type": "code",
   "source": [
    "filtered = df['portion_to_risk'] > 0\n",
    "df[filtered].sort_values(['portion_to_risk', 'avg_gain'], ascending=[False, False]).to_csv(\"collective_win.csv\", index=False)"
   ],
   "id": "f415308401a2dbcb",
   "outputs": [],
   "execution_count": 6
  }
 ],
 "metadata": {
  "kernelspec": {
   "display_name": "Python 3",
   "language": "python",
   "name": "python3"
  },
  "language_info": {
   "codemirror_mode": {
    "name": "ipython",
    "version": 2
   },
   "file_extension": ".py",
   "mimetype": "text/x-python",
   "name": "python",
   "nbconvert_exporter": "python",
   "pygments_lexer": "ipython2",
   "version": "2.7.6"
  }
 },
 "nbformat": 4,
 "nbformat_minor": 5
}
