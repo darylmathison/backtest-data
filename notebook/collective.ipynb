{
 "cells": [
  {
   "cell_type": "code",
   "id": "initial_id",
   "metadata": {
    "collapsed": true,
    "ExecuteTime": {
     "end_time": "2024-05-13T01:31:18.384412Z",
     "start_time": "2024-05-13T01:31:17.555708Z"
    }
   },
   "source": [
    "import stock_data.risk_reward as rr\n",
    "from stock_data.fill_data import open_session"
   ],
   "outputs": [],
   "execution_count": 1
  },
  {
   "metadata": {
    "ExecuteTime": {
     "end_time": "2024-05-13T01:32:51.137419Z",
     "start_time": "2024-05-13T01:31:18.387422Z"
    }
   },
   "cell_type": "code",
   "source": [
    "with open_session() as session:\n",
    "    symbols = rr.dividend_stocks(session)\n",
    "    df = rr.collective_win(session, symbols, 5)"
   ],
   "id": "516d61ff9950f5bb",
   "outputs": [],
   "execution_count": 2
  },
  {
   "metadata": {
    "ExecuteTime": {
     "end_time": "2024-05-13T01:32:51.140661Z",
     "start_time": "2024-05-13T01:32:51.138362Z"
    }
   },
   "cell_type": "code",
   "source": [
    "df[\"portion_to_risk\"] = (df[\"win_rate\"] / df[\"avg_loss\"]) - (\n",
    "        df[\"loss_rate\"] / df[\"avg_gain\"]\n",
    "    )"
   ],
   "id": "e550cc8fec23ac83",
   "outputs": [],
   "execution_count": 3
  },
  {
   "metadata": {
    "ExecuteTime": {
     "end_time": "2024-05-13T01:32:51.166145Z",
     "start_time": "2024-05-13T01:32:51.141753Z"
    }
   },
   "cell_type": "code",
   "source": [
    "# filter_rows = (df[\"sample_size\"] > 20) & (df[\"risk\"] > 0)\n",
    "filter_rows = df[\"sample_size\"] >= 40\n",
    "df[filter_rows].sort_values(['win_rate', 'avg_gain'], ascending=[False, False]).to_csv(\"collective_win.csv\", index=False)"
   ],
   "id": "f415308401a2dbcb",
   "outputs": [],
   "execution_count": 4
  }
 ],
 "metadata": {
  "kernelspec": {
   "display_name": "Python 3",
   "language": "python",
   "name": "python3"
  },
  "language_info": {
   "codemirror_mode": {
    "name": "ipython",
    "version": 2
   },
   "file_extension": ".py",
   "mimetype": "text/x-python",
   "name": "python",
   "nbconvert_exporter": "python",
   "pygments_lexer": "ipython2",
   "version": "2.7.6"
  }
 },
 "nbformat": 4,
 "nbformat_minor": 5
}
