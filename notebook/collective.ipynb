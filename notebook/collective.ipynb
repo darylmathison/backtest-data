{
 "cells": [
  {
   "cell_type": "code",
   "id": "initial_id",
   "metadata": {
    "collapsed": true,
    "ExecuteTime": {
     "end_time": "2024-05-15T12:02:13.854629Z",
     "start_time": "2024-05-15T12:02:13.054174Z"
    }
   },
   "source": [
    "import stock_data.risk_reward as rr\n",
    "from stock_data.fill_data import open_session"
   ],
   "execution_count": 1,
   "outputs": []
  },
  {
   "metadata": {
    "ExecuteTime": {
     "end_time": "2024-05-15T17:11:16.116920Z",
     "start_time": "2024-05-15T12:02:13.857378Z"
    }
   },
   "cell_type": "code",
   "source": [
    "with open_session() as session:\n",
    "    symbols = rr.dividend_stocks(session)\n",
    "    df = rr.process_all_securities(session, symbols, 5)"
   ],
   "id": "516d61ff9950f5bb",
   "execution_count": 2,
   "outputs": []
  },
  {
   "metadata": {
    "ExecuteTime": {
     "end_time": "2024-05-15T17:11:16.118841Z",
     "start_time": "2024-05-15T17:11:16.118792Z"
    }
   },
   "cell_type": "code",
   "source": [
    "# filter_rows = (df[\"sample_size\"] > 20) & (df[\"risk\"] > 0)\n",
    "filter_rows = df[\"sample_size\"] >= 40\n",
    "df[filter_rows].sort_values(['sample_aize', 'portion_to_risk'], ascending=[False, False]).to_csv(\"collective_win.csv\", index=False)"
   ],
   "id": "f415308401a2dbcb",
   "execution_count": null,
   "outputs": []
  }
 ],
 "metadata": {
  "kernelspec": {
   "display_name": "Python 3",
   "language": "python",
   "name": "python3"
  },
  "language_info": {
   "codemirror_mode": {
    "name": "ipython",
    "version": 2
   },
   "file_extension": ".py",
   "mimetype": "text/x-python",
   "name": "python",
   "nbconvert_exporter": "python",
   "pygments_lexer": "ipython2",
   "version": "2.7.6"
  }
 },
 "nbformat": 4,
 "nbformat_minor": 5
}
