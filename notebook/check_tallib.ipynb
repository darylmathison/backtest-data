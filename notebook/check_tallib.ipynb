{
 "cells": [
  {
   "cell_type": "code",
   "id": "initial_id",
   "metadata": {
    "ExecuteTime": {
     "end_time": "2024-05-16T03:26:59.982271Z",
     "start_time": "2024-05-16T03:26:59.442191Z"
    }
   },
   "source": [
    "import pandas as pd\n",
    "import numpy as np\n",
    "import talib\n",
    "import stock_data.fill_data as fd\n",
    "from stock_data.models import Stock \n",
    "import datetime"
   ],
   "execution_count": 1,
   "outputs": []
  },
  {
   "cell_type": "code",
   "id": "dd9f6d0dafd7b5c0",
   "metadata": {
    "ExecuteTime": {
     "end_time": "2024-05-16T03:34:08.596920Z",
     "start_time": "2024-05-16T03:34:08.516250Z"
    }
   },
   "source": [
    "# Load data\n",
    "end = datetime.datetime.now().date()\n",
    "start = end - datetime.timedelta(days=60)\n",
    "with fd.open_session() as conn:\n",
    "  data = pd.read_sql(conn.query(Stock).filter(Stock.symbol == 'CEM' and Stock.date.between(start, end)).statement, con=conn.bind, index_col='date')"
   ],
   "execution_count": 12,
   "outputs": []
  },
  {
   "cell_type": "code",
   "id": "713bdb79eead6eb0",
   "metadata": {
    "ExecuteTime": {
     "end_time": "2024-05-16T03:34:11.296082Z",
     "start_time": "2024-05-16T03:34:11.287202Z"
    }
   },
   "source": [
    "data['EMA'] = talib.EMA(data['close'], timeperiod=20)\n",
    "data['stddiv'] = talib.STDDEV(data['close'], timeperiod=20)\n",
    "data['high_price'] = data['close'] + data['stddiv']\n",
    "data['upperband'], data['middleband'], data['lowerband'] = talib.BBANDS(data['close'], timeperiod=20, nbdevup=2, nbdevdn=2)\n",
    "\n",
    "data[['close', 'EMA', 'stddiv', 'high_price', 'upperband']].tail(10)"
   ],
   "execution_count": 13,
   "outputs": []
  }
 ],
 "metadata": {
  "kernelspec": {
   "display_name": "Python 3 (ipykernel)",
   "language": "python",
   "name": "python3"
  },
  "language_info": {
   "codemirror_mode": {
    "name": "ipython",
    "version": 3
   },
   "file_extension": ".py",
   "mimetype": "text/x-python",
   "name": "python",
   "nbconvert_exporter": "python",
   "pygments_lexer": "ipython3",
   "version": "3.12.3"
  }
 },
 "nbformat": 4,
 "nbformat_minor": 5
}
