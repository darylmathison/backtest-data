{
 "cells": [
  {
   "cell_type": "code",
   "id": "initial_id",
   "metadata": {
    "ExecuteTime": {
     "end_time": "2024-05-16T03:26:59.982271Z",
     "start_time": "2024-05-16T03:26:59.442191Z"
    }
   },
   "source": [
    "import pandas as pd\n",
    "import numpy as np\n",
    "import talib\n",
    "import stock_data.fill_data as fd\n",
    "from stock_data.models import Stock \n",
    "import datetime"
   ],
   "outputs": [],
   "execution_count": 1
  },
  {
   "cell_type": "code",
   "id": "dd9f6d0dafd7b5c0",
   "metadata": {
    "ExecuteTime": {
     "end_time": "2024-05-16T03:34:08.596920Z",
     "start_time": "2024-05-16T03:34:08.516250Z"
    }
   },
   "source": [
    "# Load data\n",
    "end = datetime.datetime.now().date()\n",
    "start = end - datetime.timedelta(days=60)\n",
    "with fd.open_session() as conn:\n",
    "  data = pd.read_sql(conn.query(Stock).filter(Stock.symbol == 'CEM' and Stock.date.between(start, end)).statement, con=conn.bind, index_col='date')"
   ],
   "outputs": [],
   "execution_count": 12
  },
  {
   "cell_type": "code",
   "id": "713bdb79eead6eb0",
   "metadata": {
    "ExecuteTime": {
     "end_time": "2024-05-16T03:34:11.296082Z",
     "start_time": "2024-05-16T03:34:11.287202Z"
    }
   },
   "source": [
    "data['EMA'] = talib.EMA(data['close'], timeperiod=20)\n",
    "data['stddiv'] = talib.STDDEV(data['close'], timeperiod=20)\n",
    "data['high_price'] = data['close'] + data['stddiv']\n",
    "data['upperband'], data['middleband'], data['lowerband'] = talib.BBANDS(data['close'], timeperiod=20, nbdevup=2, nbdevdn=2)\n",
    "\n",
    "data[['close', 'EMA', 'stddiv', 'high_price', 'upperband']].tail(10)"
   ],
   "outputs": [
    {
     "data": {
      "text/plain": [
       "              close        EMA    stddiv  high_price  upperband\n",
       "date                                                           \n",
       "2024-04-24  45.9800  45.152254  0.736140   46.716140  46.938781\n",
       "2024-04-25  45.9700  45.230135  0.740433   46.710433  46.987866\n",
       "2024-04-26  45.8300  45.287265  0.741434   46.571434  46.992369\n",
       "2024-04-29  45.8900  45.344668  0.743999   46.633999  47.003498\n",
       "2024-04-30  45.0799  45.319452  0.741413   45.821313  46.952822\n",
       "2024-05-01  45.1100  45.299504  0.715335   45.825335  46.837665\n",
       "2024-05-02  45.6600  45.333837  0.700798   46.360798  46.787091\n",
       "2024-05-03  46.0100  45.398234  0.692087   46.702087  46.761168\n",
       "2024-05-06  46.4600  45.499354  0.705454   47.165454  46.797404\n",
       "2024-05-07  46.8300  45.626082  0.766137   47.596137  46.965769"
      ],
      "text/html": [
       "<div>\n",
       "<style scoped>\n",
       "    .dataframe tbody tr th:only-of-type {\n",
       "        vertical-align: middle;\n",
       "    }\n",
       "\n",
       "    .dataframe tbody tr th {\n",
       "        vertical-align: top;\n",
       "    }\n",
       "\n",
       "    .dataframe thead th {\n",
       "        text-align: right;\n",
       "    }\n",
       "</style>\n",
       "<table border=\"1\" class=\"dataframe\">\n",
       "  <thead>\n",
       "    <tr style=\"text-align: right;\">\n",
       "      <th></th>\n",
       "      <th>close</th>\n",
       "      <th>EMA</th>\n",
       "      <th>stddiv</th>\n",
       "      <th>high_price</th>\n",
       "      <th>upperband</th>\n",
       "    </tr>\n",
       "    <tr>\n",
       "      <th>date</th>\n",
       "      <th></th>\n",
       "      <th></th>\n",
       "      <th></th>\n",
       "      <th></th>\n",
       "      <th></th>\n",
       "    </tr>\n",
       "  </thead>\n",
       "  <tbody>\n",
       "    <tr>\n",
       "      <th>2024-04-24</th>\n",
       "      <td>45.9800</td>\n",
       "      <td>45.152254</td>\n",
       "      <td>0.736140</td>\n",
       "      <td>46.716140</td>\n",
       "      <td>46.938781</td>\n",
       "    </tr>\n",
       "    <tr>\n",
       "      <th>2024-04-25</th>\n",
       "      <td>45.9700</td>\n",
       "      <td>45.230135</td>\n",
       "      <td>0.740433</td>\n",
       "      <td>46.710433</td>\n",
       "      <td>46.987866</td>\n",
       "    </tr>\n",
       "    <tr>\n",
       "      <th>2024-04-26</th>\n",
       "      <td>45.8300</td>\n",
       "      <td>45.287265</td>\n",
       "      <td>0.741434</td>\n",
       "      <td>46.571434</td>\n",
       "      <td>46.992369</td>\n",
       "    </tr>\n",
       "    <tr>\n",
       "      <th>2024-04-29</th>\n",
       "      <td>45.8900</td>\n",
       "      <td>45.344668</td>\n",
       "      <td>0.743999</td>\n",
       "      <td>46.633999</td>\n",
       "      <td>47.003498</td>\n",
       "    </tr>\n",
       "    <tr>\n",
       "      <th>2024-04-30</th>\n",
       "      <td>45.0799</td>\n",
       "      <td>45.319452</td>\n",
       "      <td>0.741413</td>\n",
       "      <td>45.821313</td>\n",
       "      <td>46.952822</td>\n",
       "    </tr>\n",
       "    <tr>\n",
       "      <th>2024-05-01</th>\n",
       "      <td>45.1100</td>\n",
       "      <td>45.299504</td>\n",
       "      <td>0.715335</td>\n",
       "      <td>45.825335</td>\n",
       "      <td>46.837665</td>\n",
       "    </tr>\n",
       "    <tr>\n",
       "      <th>2024-05-02</th>\n",
       "      <td>45.6600</td>\n",
       "      <td>45.333837</td>\n",
       "      <td>0.700798</td>\n",
       "      <td>46.360798</td>\n",
       "      <td>46.787091</td>\n",
       "    </tr>\n",
       "    <tr>\n",
       "      <th>2024-05-03</th>\n",
       "      <td>46.0100</td>\n",
       "      <td>45.398234</td>\n",
       "      <td>0.692087</td>\n",
       "      <td>46.702087</td>\n",
       "      <td>46.761168</td>\n",
       "    </tr>\n",
       "    <tr>\n",
       "      <th>2024-05-06</th>\n",
       "      <td>46.4600</td>\n",
       "      <td>45.499354</td>\n",
       "      <td>0.705454</td>\n",
       "      <td>47.165454</td>\n",
       "      <td>46.797404</td>\n",
       "    </tr>\n",
       "    <tr>\n",
       "      <th>2024-05-07</th>\n",
       "      <td>46.8300</td>\n",
       "      <td>45.626082</td>\n",
       "      <td>0.766137</td>\n",
       "      <td>47.596137</td>\n",
       "      <td>46.965769</td>\n",
       "    </tr>\n",
       "  </tbody>\n",
       "</table>\n",
       "</div>"
      ]
     },
     "execution_count": 13,
     "metadata": {},
     "output_type": "execute_result"
    }
   ],
   "execution_count": 13
  }
 ],
 "metadata": {
  "kernelspec": {
   "display_name": "Python 3 (ipykernel)",
   "language": "python",
   "name": "python3"
  },
  "language_info": {
   "codemirror_mode": {
    "name": "ipython",
    "version": 3
   },
   "file_extension": ".py",
   "mimetype": "text/x-python",
   "name": "python",
   "nbconvert_exporter": "python",
   "pygments_lexer": "ipython3",
   "version": "3.12.3"
  }
 },
 "nbformat": 4,
 "nbformat_minor": 5
}
