{
 "cells": [
  {
   "cell_type": "code",
   "id": "initial_id",
   "metadata": {
    "collapsed": true,
    "ExecuteTime": {
     "end_time": "2024-05-18T14:32:49.978830Z",
     "start_time": "2024-05-18T14:32:49.634161Z"
    }
   },
   "source": [
    "import re\n",
    "import pandas as pd"
   ],
   "execution_count": 2,
   "outputs": []
  },
  {
   "metadata": {
    "ExecuteTime": {
     "end_time": "2024-05-18T14:33:37.916493Z",
     "start_time": "2024-05-18T14:33:37.912299Z"
    }
   },
   "cell_type": "code",
   "source": [
    "with open('log_output.txt') as f:\n",
    "    lines = f.readlines()"
   ],
   "id": "f8286371b309778a",
   "execution_count": 5,
   "outputs": []
  },
  {
   "metadata": {
    "ExecuteTime": {
     "end_time": "2024-05-18T14:37:28.480736Z",
     "start_time": "2024-05-18T14:37:28.477300Z"
    }
   },
   "cell_type": "code",
   "source": [
    "lines = [l for l in filter(lambda x: len(x) > 0, lines)]\n",
    "del lines[-1]\n",
    "lines[-1]"
   ],
   "id": "809faebc220af30f",
   "execution_count": 8,
   "outputs": []
  },
  {
   "metadata": {
    "ExecuteTime": {
     "end_time": "2024-05-18T14:38:23.960232Z",
     "start_time": "2024-05-18T14:38:23.956503Z"
    }
   },
   "cell_type": "code",
   "source": "lines[0:20]",
   "id": "c8071c5cc881f991",
   "execution_count": 9,
   "outputs": []
  },
  {
   "metadata": {
    "ExecuteTime": {
     "end_time": "2024-05-18T14:46:06.836202Z",
     "start_time": "2024-05-18T14:46:06.829493Z"
    }
   },
   "cell_type": "code",
   "source": [
    "not_found = set()\n",
    "too_many = set()\n",
    "symbol_extract = re.compile(r'.+for\\s+(\\w+).*')\n",
    "for line in lines:\n",
    "    symbol = symbol_extract.match(line).group(1)\n",
    "    if 'not found' in line:\n",
    "        not_found.add(symbol)\n",
    "    if 'too many' in line:\n",
    "        too_many.add(symbol)\n",
    "        \n",
    "not_found, too_many"
   ],
   "id": "76ce3f0443e86061",
   "execution_count": 11,
   "outputs": []
  },
  {
   "metadata": {
    "ExecuteTime": {
     "end_time": "2024-05-18T14:47:24.363132Z",
     "start_time": "2024-05-18T14:47:24.358745Z"
    }
   },
   "cell_type": "code",
   "source": [
    "with open('not_found.txt', 'w') as f, open('too_many.txt', 'w') as g:\n",
    "    for symbol in not_found:\n",
    "        f.write(symbol + '\\n')\n",
    "        \n",
    "    for symbol in too_many:\n",
    "        g.write(symbol + '\\n')"
   ],
   "id": "b9b3d9b06ec945fb",
   "execution_count": 12,
   "outputs": []
  },
  {
   "metadata": {
    "ExecuteTime": {
     "end_time": "2024-05-18T18:17:58.829875Z",
     "start_time": "2024-05-18T18:17:41.565175Z"
    }
   },
   "cell_type": "code",
   "source": [
    "import stock_data.polygon_client as pc\n",
    "import datetime\n",
    "old_date = datetime.datetime(2019, 1, 1)\n",
    "for symbol in too_many:\n",
    "    for annotation in pc.get_dividend_announcements(symbol, old_date):\n",
    "        print(annotation)"
   ],
   "id": "76ecce178aef600f",
   "execution_count": 14,
   "outputs": []
  }
 ],
 "metadata": {
  "kernelspec": {
   "display_name": "Python 3",
   "language": "python",
   "name": "python3"
  },
  "language_info": {
   "codemirror_mode": {
    "name": "ipython",
    "version": 2
   },
   "file_extension": ".py",
   "mimetype": "text/x-python",
   "name": "python",
   "nbconvert_exporter": "python",
   "pygments_lexer": "ipython2",
   "version": "2.7.6"
  }
 },
 "nbformat": 4,
 "nbformat_minor": 5
}
